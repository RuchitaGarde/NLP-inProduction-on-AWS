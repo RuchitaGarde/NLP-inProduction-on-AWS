{
 "cells": [
  {
   "cell_type": "markdown",
   "metadata": {},
   "source": [
    "# Query Data with AWS Data Wrangler"
   ]
  },
  {
   "cell_type": "markdown",
   "metadata": {},
   "source": [
    "**AWS Data Wrangler** is an open-source Python library that extends the power of the Pandas library to AWS connecting DataFrames and AWS data related services (Amazon Redshift, AWS Glue, Amazon Athena, Amazon EMR, Amazon QuickSight, etc).\n",
    "\n",
    "* https://github.com/awslabs/aws-data-wrangler\n",
    "* https://aws-data-wrangler.readthedocs.io\n",
    "\n",
    "Built on top of other open-source projects like Pandas, Apache Arrow, Boto3, s3fs, SQLAlchemy, Psycopg2 and PyMySQL, it offers abstracted functions to execute usual ETL tasks like load/unload data from Data Lakes, Data Warehouses and Databases.\n",
    "\n",
    "_Note that AWS Data Wrangler is simply a Python library that uses existing AWS Services.  AWS Data Wrangler is not a separate AWS Service.  You install AWS Data Wrangler through `pip install` as we will see next._"
   ]
  },
  {
   "cell_type": "markdown",
   "metadata": {},
   "source": [
    "# Pre-Requisite: Make Sure You Created an Athena Table for Both TSV and Parquet in Previous Notebooks"
   ]
  },
  {
   "cell_type": "code",
   "execution_count": null,
   "metadata": {},
   "outputs": [],
   "source": [
    "## Not sure how important this notebook is to the overall workflow"
   ]
  },
  {
   "cell_type": "code",
   "execution_count": 1,
   "metadata": {},
   "outputs": [],
   "source": [
    "%store -r ingest_create_athena_table_tsv_passed"
   ]
  },
  {
   "cell_type": "code",
   "execution_count": 2,
   "metadata": {},
   "outputs": [],
   "source": [
    "try:\n",
    "    ingest_create_athena_table_tsv_passed\n",
    "except NameError:\n",
    "    print('++++++++++++++++++++++++++++++++++++++++++++++')\n",
    "    print('[ERROR] YOU HAVE TO RUN ALL PREVIOUS NOTEBOOKS.  You did not register the TSV Data.')\n",
    "    print('++++++++++++++++++++++++++++++++++++++++++++++')"
   ]
  },
  {
   "cell_type": "code",
   "execution_count": 3,
   "metadata": {},
   "outputs": [
    {
     "name": "stdout",
     "output_type": "stream",
     "text": [
      "True\n"
     ]
    }
   ],
   "source": [
    "print(ingest_create_athena_table_tsv_passed)"
   ]
  },
  {
   "cell_type": "code",
   "execution_count": 4,
   "metadata": {},
   "outputs": [
    {
     "name": "stdout",
     "output_type": "stream",
     "text": [
      "[OK]\n"
     ]
    }
   ],
   "source": [
    "if not ingest_create_athena_table_tsv_passed:\n",
    "    print('++++++++++++++++++++++++++++++++++++++++++++++')\n",
    "    print('[ERROR] YOU HAVE TO RUN ALL PREVIOUS NOTEBOOKS.  You did not register the TSV Data.')\n",
    "    print('++++++++++++++++++++++++++++++++++++++++++++++')\n",
    "else:\n",
    "    print('[OK]')"
   ]
  },
  {
   "cell_type": "code",
   "execution_count": 5,
   "metadata": {},
   "outputs": [],
   "source": [
    "%store -r ingest_create_athena_table_parquet_passed"
   ]
  },
  {
   "cell_type": "code",
   "execution_count": 6,
   "metadata": {},
   "outputs": [],
   "source": [
    "try:\n",
    "    ingest_create_athena_table_parquet_passed\n",
    "except NameError:\n",
    "    print('++++++++++++++++++++++++++++++++++++++++++++++')\n",
    "    print('[ERROR] YOU HAVE TO RUN ALL PREVIOUS NOTEBOOKS.  You did not convert into Parquet data.')\n",
    "    print('++++++++++++++++++++++++++++++++++++++++++++++')"
   ]
  },
  {
   "cell_type": "code",
   "execution_count": 7,
   "metadata": {},
   "outputs": [
    {
     "name": "stdout",
     "output_type": "stream",
     "text": [
      "True\n"
     ]
    }
   ],
   "source": [
    "print(ingest_create_athena_table_parquet_passed)"
   ]
  },
  {
   "cell_type": "code",
   "execution_count": 8,
   "metadata": {},
   "outputs": [
    {
     "name": "stdout",
     "output_type": "stream",
     "text": [
      "[OK]\n"
     ]
    }
   ],
   "source": [
    "if not ingest_create_athena_table_parquet_passed:\n",
    "    print('++++++++++++++++++++++++++++++++++++++++++++++')\n",
    "    print('[ERROR] YOU HAVE TO RUN ALL PREVIOUS NOTEBOOKS.  You did not convert into Parquet data.') \n",
    "    print('++++++++++++++++++++++++++++++++++++++++++++++')\n",
    "else:\n",
    "    print('[OK]')"
   ]
  },
  {
   "cell_type": "code",
   "execution_count": 9,
   "metadata": {},
   "outputs": [],
   "source": [
    "import boto3\n",
    "import sagemaker\n",
    "\n",
    "session = boto3.session.Session()\n",
    "region_name = session.region_name\n",
    "sagemaker_session = sagemaker.Session()\n",
    "bucket = sagemaker_session.default_bucket()"
   ]
  },
  {
   "cell_type": "code",
   "execution_count": 10,
   "metadata": {},
   "outputs": [],
   "source": [
    "import awswrangler as wr"
   ]
  },
  {
   "cell_type": "markdown",
   "metadata": {},
   "source": [
    "# Query Parquet from S3 with Push-Down Filters\n",
    "\n",
    "Read Apache Parquet file(s) from from a received S3 prefix or list of S3 objects paths.\n",
    "\n",
    "The concept of Dataset goes beyond the simple idea of files and enable more complex features like partitioning and catalog integration (AWS Glue Catalog): \n",
    "\n",
    "_dataset (bool)_ – If True read a parquet dataset instead of simple file(s) loading all the related partitions as columns."
   ]
  },
  {
   "cell_type": "code",
   "execution_count": 11,
   "metadata": {},
   "outputs": [],
   "source": [
    "filter = lambda x: True if x[\"product_category\"] == \"Digital_Software\" else False"
   ]
  },
  {
   "cell_type": "code",
   "execution_count": 12,
   "metadata": {},
   "outputs": [
    {
     "data": {
      "text/plain": [
       "(102084, 3)"
      ]
     },
     "execution_count": 12,
     "metadata": {},
     "output_type": "execute_result"
    }
   ],
   "source": [
    "path = 's3://{}/amazon-reviews-pds/parquet/'.format(bucket)\n",
    "df_parquet_results = wr.s3.read_parquet(path,\n",
    "                                        columns=['star_rating', 'product_category', 'review_body'],\n",
    "                                        partition_filter=filter,\n",
    "                                        dataset=True)\n",
    "df_parquet_results.shape"
   ]
  },
  {
   "cell_type": "code",
   "execution_count": 13,
   "metadata": {},
   "outputs": [
    {
     "data": {
      "text/html": [
       "<div>\n",
       "<style scoped>\n",
       "    .dataframe tbody tr th:only-of-type {\n",
       "        vertical-align: middle;\n",
       "    }\n",
       "\n",
       "    .dataframe tbody tr th {\n",
       "        vertical-align: top;\n",
       "    }\n",
       "\n",
       "    .dataframe thead th {\n",
       "        text-align: right;\n",
       "    }\n",
       "</style>\n",
       "<table border=\"1\" class=\"dataframe\">\n",
       "  <thead>\n",
       "    <tr style=\"text-align: right;\">\n",
       "      <th></th>\n",
       "      <th>star_rating</th>\n",
       "      <th>review_body</th>\n",
       "      <th>product_category</th>\n",
       "    </tr>\n",
       "  </thead>\n",
       "  <tbody>\n",
       "    <tr>\n",
       "      <th>0</th>\n",
       "      <td>4</td>\n",
       "      <td>So far so good</td>\n",
       "      <td>Digital_Software</td>\n",
       "    </tr>\n",
       "    <tr>\n",
       "      <th>1</th>\n",
       "      <td>3</td>\n",
       "      <td>Needs a little more work.....</td>\n",
       "      <td>Digital_Software</td>\n",
       "    </tr>\n",
       "    <tr>\n",
       "      <th>2</th>\n",
       "      <td>1</td>\n",
       "      <td>Please cancel.</td>\n",
       "      <td>Digital_Software</td>\n",
       "    </tr>\n",
       "    <tr>\n",
       "      <th>3</th>\n",
       "      <td>5</td>\n",
       "      <td>Works as Expected!</td>\n",
       "      <td>Digital_Software</td>\n",
       "    </tr>\n",
       "    <tr>\n",
       "      <th>4</th>\n",
       "      <td>4</td>\n",
       "      <td>I've had Webroot for a few years. It expired a...</td>\n",
       "      <td>Digital_Software</td>\n",
       "    </tr>\n",
       "  </tbody>\n",
       "</table>\n",
       "</div>"
      ],
      "text/plain": [
       "   star_rating                                        review_body  \\\n",
       "0            4                                     So far so good   \n",
       "1            3                      Needs a little more work.....   \n",
       "2            1                                     Please cancel.   \n",
       "3            5                                 Works as Expected!   \n",
       "4            4  I've had Webroot for a few years. It expired a...   \n",
       "\n",
       "   product_category  \n",
       "0  Digital_Software  \n",
       "1  Digital_Software  \n",
       "2  Digital_Software  \n",
       "3  Digital_Software  \n",
       "4  Digital_Software  "
      ]
     },
     "execution_count": 13,
     "metadata": {},
     "output_type": "execute_result"
    }
   ],
   "source": [
    "df_parquet_results.head(5)"
   ]
  },
  {
   "cell_type": "markdown",
   "metadata": {},
   "source": [
    "# Query Parquet from S3 in Chunks"
   ]
  },
  {
   "cell_type": "markdown",
   "metadata": {},
   "source": [
    "Batching (chunked argument) (Memory Friendly):\n",
    "\n",
    "Will enable the function to return a Iterable of DataFrames instead of a regular DataFrame.\n",
    "\n",
    "There are two batching strategies on Wrangler:\n",
    "* If chunked=True, a new DataFrame will be returned for each file in your path/dataset.\n",
    "* If chunked=INTEGER, Wrangler will iterate on the data by number of rows equal to the received INTEGER.\n",
    "\n",
    "P.S. chunked=True if faster and uses less memory while chunked=INTEGER is more precise in number of rows for each Dataframe."
   ]
  },
  {
   "cell_type": "code",
   "execution_count": 14,
   "metadata": {},
   "outputs": [],
   "source": [
    "path = 's3://{}/amazon-reviews-pds/parquet/'.format(bucket)\n",
    "chunk_iter = wr.s3.read_parquet(path,\n",
    "                                columns=['star_rating', 'product_category', 'review_body'],\n",
    "                                # filters=[(\"product_category\", \"=\", \"Digital_Software\")],\n",
    "                                partition_filter=filter,\n",
    "                                dataset=True,\n",
    "                                chunked=True)"
   ]
  },
  {
   "cell_type": "code",
   "execution_count": 15,
   "metadata": {
    "scrolled": true
   },
   "outputs": [
    {
     "name": "stdout",
     "output_type": "stream",
     "text": [
      "       star_rating                                        review_body  \\\n",
      "0                4                                     So far so good   \n",
      "1                3                      Needs a little more work.....   \n",
      "2                1                                     Please cancel.   \n",
      "3                5                                 Works as Expected!   \n",
      "4                4  I've had Webroot for a few years. It expired a...   \n",
      "...            ...                                                ...   \n",
      "67336            4  File  electron federal return is free. But you...   \n",
      "67337            3  The download went fine but the install hung on...   \n",
      "67338            3  I've read some complaints about people who dow...   \n",
      "67339            4  Very good product. I have been using Tax Cut f...   \n",
      "67340            2  Okay first off the software works pretty good,...   \n",
      "\n",
      "       product_category  \n",
      "0      Digital_Software  \n",
      "1      Digital_Software  \n",
      "2      Digital_Software  \n",
      "3      Digital_Software  \n",
      "4      Digital_Software  \n",
      "...                 ...  \n",
      "67336  Digital_Software  \n",
      "67337  Digital_Software  \n",
      "67338  Digital_Software  \n",
      "67339  Digital_Software  \n",
      "67340  Digital_Software  \n",
      "\n",
      "[67341 rows x 3 columns]\n"
     ]
    }
   ],
   "source": [
    "print(next(chunk_iter))"
   ]
  },
  {
   "cell_type": "markdown",
   "metadata": {},
   "source": [
    "# Query the Glue Catalog (ie. Hive Metastore)\n",
    "Get an iterator of tables."
   ]
  },
  {
   "cell_type": "code",
   "execution_count": 16,
   "metadata": {},
   "outputs": [],
   "source": [
    "database_name = 'dsoaws'\n",
    "table_name_tsv = 'amazon_reviews_tsv'\n",
    "table_name_parquet = 'amazon_reviews_parquet'"
   ]
  },
  {
   "cell_type": "code",
   "execution_count": 17,
   "metadata": {},
   "outputs": [
    {
     "name": "stdout",
     "output_type": "stream",
     "text": [
      "amazon_reviews_parquet\n",
      "amazon_reviews_tsv\n"
     ]
    }
   ],
   "source": [
    "for table in wr.catalog.get_tables(database=\"dsoaws\"):\n",
    "    print(table['Name'])"
   ]
  },
  {
   "cell_type": "markdown",
   "metadata": {},
   "source": [
    "# Query from Athena\n",
    "Execute any SQL query on AWS Athena and return the results as a Pandas DataFrame.  \n"
   ]
  },
  {
   "cell_type": "code",
   "execution_count": 18,
   "metadata": {},
   "outputs": [
    {
     "name": "stdout",
     "output_type": "stream",
     "text": [
      "CPU times: user 461 ms, sys: 36.6 ms, total: 497 ms\n",
      "Wall time: 8.16 s\n"
     ]
    }
   ],
   "source": [
    "%%time\n",
    "df = wr.athena.read_sql_query(\n",
    "    sql='SELECT * FROM {} LIMIT 5000'.format(table_name_parquet),\n",
    "    database=database_name\n",
    ")"
   ]
  },
  {
   "cell_type": "code",
   "execution_count": 19,
   "metadata": {},
   "outputs": [
    {
     "data": {
      "text/html": [
       "<div>\n",
       "<style scoped>\n",
       "    .dataframe tbody tr th:only-of-type {\n",
       "        vertical-align: middle;\n",
       "    }\n",
       "\n",
       "    .dataframe tbody tr th {\n",
       "        vertical-align: top;\n",
       "    }\n",
       "\n",
       "    .dataframe thead th {\n",
       "        text-align: right;\n",
       "    }\n",
       "</style>\n",
       "<table border=\"1\" class=\"dataframe\">\n",
       "  <thead>\n",
       "    <tr style=\"text-align: right;\">\n",
       "      <th></th>\n",
       "      <th>marketplace</th>\n",
       "      <th>customer_id</th>\n",
       "      <th>review_id</th>\n",
       "      <th>product_id</th>\n",
       "      <th>product_parent</th>\n",
       "      <th>product_title</th>\n",
       "      <th>star_rating</th>\n",
       "      <th>helpful_votes</th>\n",
       "      <th>total_votes</th>\n",
       "      <th>vine</th>\n",
       "      <th>verified_purchase</th>\n",
       "      <th>review_headline</th>\n",
       "      <th>review_body</th>\n",
       "      <th>year</th>\n",
       "      <th>review_date</th>\n",
       "      <th>product_category</th>\n",
       "    </tr>\n",
       "  </thead>\n",
       "  <tbody>\n",
       "    <tr>\n",
       "      <th>0</th>\n",
       "      <td>US</td>\n",
       "      <td>15257192</td>\n",
       "      <td>R204T21JTCZ8XG</td>\n",
       "      <td>B00E7XA7KY</td>\n",
       "      <td>189774198</td>\n",
       "      <td>Quickbooks Pro</td>\n",
       "      <td>1</td>\n",
       "      <td>1</td>\n",
       "      <td>1</td>\n",
       "      <td>N</td>\n",
       "      <td>N</td>\n",
       "      <td>Chase bank Web Connect issues</td>\n",
       "      <td>Major problems with Chase bank intergration. C...</td>\n",
       "      <td>2014</td>\n",
       "      <td>2014-02-16</td>\n",
       "      <td>Digital_Software</td>\n",
       "    </tr>\n",
       "    <tr>\n",
       "      <th>1</th>\n",
       "      <td>US</td>\n",
       "      <td>50690611</td>\n",
       "      <td>R2PCSOYZZ5IAL1</td>\n",
       "      <td>B00FFINUJK</td>\n",
       "      <td>866839083</td>\n",
       "      <td>TurboTax Home and Business Fed, Efile and Stat...</td>\n",
       "      <td>5</td>\n",
       "      <td>2</td>\n",
       "      <td>2</td>\n",
       "      <td>N</td>\n",
       "      <td>Y</td>\n",
       "      <td>Long time user: It does what it's supposed to ...</td>\n",
       "      <td>Initial note: This is a review of the download...</td>\n",
       "      <td>2014</td>\n",
       "      <td>2014-02-16</td>\n",
       "      <td>Digital_Software</td>\n",
       "    </tr>\n",
       "    <tr>\n",
       "      <th>2</th>\n",
       "      <td>US</td>\n",
       "      <td>2481589</td>\n",
       "      <td>R3N8V9RJWPDXOA</td>\n",
       "      <td>B00B1TGHXS</td>\n",
       "      <td>954368001</td>\n",
       "      <td>Microsoft Word 2013 (1PC/1User)</td>\n",
       "      <td>1</td>\n",
       "      <td>0</td>\n",
       "      <td>0</td>\n",
       "      <td>N</td>\n",
       "      <td>Y</td>\n",
       "      <td>was not able to download this program. i have ...</td>\n",
       "      <td>please refund for this program. I can not down...</td>\n",
       "      <td>2014</td>\n",
       "      <td>2014-02-16</td>\n",
       "      <td>Digital_Software</td>\n",
       "    </tr>\n",
       "    <tr>\n",
       "      <th>3</th>\n",
       "      <td>US</td>\n",
       "      <td>42625099</td>\n",
       "      <td>R2LV5O1P2A5GFX</td>\n",
       "      <td>B00F8LJU9S</td>\n",
       "      <td>627104528</td>\n",
       "      <td>Adobe Photoshop Elements 12</td>\n",
       "      <td>5</td>\n",
       "      <td>0</td>\n",
       "      <td>0</td>\n",
       "      <td>N</td>\n",
       "      <td>Y</td>\n",
       "      <td>Easy to use</td>\n",
       "      <td>Super easy to download and great software prog...</td>\n",
       "      <td>2014</td>\n",
       "      <td>2014-02-16</td>\n",
       "      <td>Digital_Software</td>\n",
       "    </tr>\n",
       "    <tr>\n",
       "      <th>4</th>\n",
       "      <td>US</td>\n",
       "      <td>51561267</td>\n",
       "      <td>R2D8O9VZOL67J6</td>\n",
       "      <td>B00FGDEPDY</td>\n",
       "      <td>991059534</td>\n",
       "      <td>Norton Internet Security 1 User 3 Licenses</td>\n",
       "      <td>5</td>\n",
       "      <td>0</td>\n",
       "      <td>1</td>\n",
       "      <td>N</td>\n",
       "      <td>Y</td>\n",
       "      <td>Long Time Norton Fan</td>\n",
       "      <td>I've been using Norton Internet Security for y...</td>\n",
       "      <td>2014</td>\n",
       "      <td>2014-02-16</td>\n",
       "      <td>Digital_Software</td>\n",
       "    </tr>\n",
       "  </tbody>\n",
       "</table>\n",
       "</div>"
      ],
      "text/plain": [
       "  marketplace customer_id       review_id  product_id product_parent  \\\n",
       "0          US    15257192  R204T21JTCZ8XG  B00E7XA7KY      189774198   \n",
       "1          US    50690611  R2PCSOYZZ5IAL1  B00FFINUJK      866839083   \n",
       "2          US     2481589  R3N8V9RJWPDXOA  B00B1TGHXS      954368001   \n",
       "3          US    42625099  R2LV5O1P2A5GFX  B00F8LJU9S      627104528   \n",
       "4          US    51561267  R2D8O9VZOL67J6  B00FGDEPDY      991059534   \n",
       "\n",
       "                                       product_title  star_rating  \\\n",
       "0                                     Quickbooks Pro            1   \n",
       "1  TurboTax Home and Business Fed, Efile and Stat...            5   \n",
       "2                    Microsoft Word 2013 (1PC/1User)            1   \n",
       "3                        Adobe Photoshop Elements 12            5   \n",
       "4         Norton Internet Security 1 User 3 Licenses            5   \n",
       "\n",
       "   helpful_votes  total_votes vine verified_purchase  \\\n",
       "0              1            1    N                 N   \n",
       "1              2            2    N                 Y   \n",
       "2              0            0    N                 Y   \n",
       "3              0            0    N                 Y   \n",
       "4              0            1    N                 Y   \n",
       "\n",
       "                                     review_headline  \\\n",
       "0                      Chase bank Web Connect issues   \n",
       "1  Long time user: It does what it's supposed to ...   \n",
       "2  was not able to download this program. i have ...   \n",
       "3                                        Easy to use   \n",
       "4                               Long Time Norton Fan   \n",
       "\n",
       "                                         review_body  year review_date  \\\n",
       "0  Major problems with Chase bank intergration. C...  2014  2014-02-16   \n",
       "1  Initial note: This is a review of the download...  2014  2014-02-16   \n",
       "2  please refund for this program. I can not down...  2014  2014-02-16   \n",
       "3  Super easy to download and great software prog...  2014  2014-02-16   \n",
       "4  I've been using Norton Internet Security for y...  2014  2014-02-16   \n",
       "\n",
       "   product_category  \n",
       "0  Digital_Software  \n",
       "1  Digital_Software  \n",
       "2  Digital_Software  \n",
       "3  Digital_Software  \n",
       "4  Digital_Software  "
      ]
     },
     "execution_count": 19,
     "metadata": {},
     "output_type": "execute_result"
    }
   ],
   "source": [
    "df.head(5)"
   ]
  },
  {
   "cell_type": "markdown",
   "metadata": {},
   "source": [
    "# Query from Athena in Chunks\n",
    "Retrieving in chunks can help reduce memory requirements."
   ]
  },
  {
   "cell_type": "code",
   "execution_count": 20,
   "metadata": {},
   "outputs": [
    {
     "name": "stdout",
     "output_type": "stream",
     "text": [
      "CPU times: user 282 ms, sys: 20 ms, total: 302 ms\n",
      "Wall time: 6.76 s\n"
     ]
    }
   ],
   "source": [
    "%%time\n",
    "\n",
    "chunk_iter = wr.athena.read_sql_query(\n",
    "    sql='SELECT * FROM {} LIMIT 5000'.format(table_name_parquet),\n",
    "    database='{}'.format(database_name),\n",
    "    chunksize=64_000  # 64 KB Chunks\n",
    ")"
   ]
  },
  {
   "cell_type": "code",
   "execution_count": 21,
   "metadata": {},
   "outputs": [
    {
     "name": "stdout",
     "output_type": "stream",
     "text": [
      "     marketplace customer_id       review_id  product_id product_parent  \\\n",
      "0             US    15257192  R204T21JTCZ8XG  B00E7XA7KY      189774198   \n",
      "1             US    50690611  R2PCSOYZZ5IAL1  B00FFINUJK      866839083   \n",
      "2             US     2481589  R3N8V9RJWPDXOA  B00B1TGHXS      954368001   \n",
      "3             US    42625099  R2LV5O1P2A5GFX  B00F8LJU9S      627104528   \n",
      "4             US    51561267  R2D8O9VZOL67J6  B00FGDEPDY      991059534   \n",
      "...          ...         ...             ...         ...            ...   \n",
      "1019          US    42710505  R1BPHQB726D55L  B00FFINOWS      875090538   \n",
      "1020          US    47659476  R14M5Z76K6HE7O  B00H9A60O4      608720080   \n",
      "1021          US    18966808  R19TXQGIXPUV5B  B00H9A60O4      608720080   \n",
      "1022          US    21334179  R2VUGMBR883BEE  B00FFINOWS      875090538   \n",
      "1023          US    14843482   RKSQEVQK2PO2W  B00FGDDTSQ      672725528   \n",
      "\n",
      "                                          product_title  star_rating  \\\n",
      "0                                        Quickbooks Pro            1   \n",
      "1     TurboTax Home and Business Fed, Efile and Stat...            5   \n",
      "2                       Microsoft Word 2013 (1PC/1User)            1   \n",
      "3                           Adobe Photoshop Elements 12            5   \n",
      "4            Norton Internet Security 1 User 3 Licenses            5   \n",
      "...                                                 ...          ...   \n",
      "1019          TurboTax Deluxe Fed, Efile and State 2013            4   \n",
      "1020               Avast Free Antivirus 2015 [Download]            4   \n",
      "1021               Avast Free Antivirus 2015 [Download]            5   \n",
      "1022          TurboTax Deluxe Fed, Efile and State 2013            4   \n",
      "1023                       Norton 360 1 User 3 Licenses            1   \n",
      "\n",
      "      helpful_votes  total_votes vine verified_purchase  \\\n",
      "0                 1            1    N                 N   \n",
      "1                 2            2    N                 Y   \n",
      "2                 0            0    N                 Y   \n",
      "3                 0            0    N                 Y   \n",
      "4                 0            1    N                 Y   \n",
      "...             ...          ...  ...               ...   \n",
      "1019              0            0    N                 Y   \n",
      "1020              0            0    N                 N   \n",
      "1021              0            0    N                 N   \n",
      "1022              0            0    N                 Y   \n",
      "1023              0            0    N                 Y   \n",
      "\n",
      "                                        review_headline  \\\n",
      "0                         Chase bank Web Connect issues   \n",
      "1     Long time user: It does what it's supposed to ...   \n",
      "2     was not able to download this program. i have ...   \n",
      "3                                           Easy to use   \n",
      "4                                  Long Time Norton Fan   \n",
      "...                                                 ...   \n",
      "1019                                 Turbo Tax software   \n",
      "1020                                 Very user friendly   \n",
      "1021                                      great product   \n",
      "1022                              It served the purpose   \n",
      "1023                                           Horribly   \n",
      "\n",
      "                                            review_body  year review_date  \\\n",
      "0     Major problems with Chase bank intergration. C...  2014  2014-02-16   \n",
      "1     Initial note: This is a review of the download...  2014  2014-02-16   \n",
      "2     please refund for this program. I can not down...  2014  2014-02-16   \n",
      "3     Super easy to download and great software prog...  2014  2014-02-16   \n",
      "4     I've been using Norton Internet Security for y...  2014  2014-02-16   \n",
      "...                                                 ...   ...         ...   \n",
      "1019  It works without much frustration unless you d...  2014  2014-04-13   \n",
      "1020  I would highly recommend Avast.  My computer w...  2014  2014-04-13   \n",
      "1021  has kept me out of trouble for years. installa...  2014  2014-04-13   \n",
      "1022  I have used TurboTax for a number of years and...  2014  2014-04-13   \n",
      "1023  It's like i was many years ago. It's a memory ...  2014  2014-04-13   \n",
      "\n",
      "      product_category  \n",
      "0     Digital_Software  \n",
      "1     Digital_Software  \n",
      "2     Digital_Software  \n",
      "3     Digital_Software  \n",
      "4     Digital_Software  \n",
      "...                ...  \n",
      "1019  Digital_Software  \n",
      "1020  Digital_Software  \n",
      "1021  Digital_Software  \n",
      "1022  Digital_Software  \n",
      "1023  Digital_Software  \n",
      "\n",
      "[5000 rows x 16 columns]\n"
     ]
    }
   ],
   "source": [
    "print(next(chunk_iter))"
   ]
  },
  {
   "cell_type": "code",
   "execution_count": null,
   "metadata": {},
   "outputs": [
    {
     "data": {
      "application/javascript": [
       "Jupyter.notebook.save_checkpoint();\n",
       "Jupyter.notebook.session.delete();\n"
      ],
      "text/plain": [
       "<IPython.core.display.Javascript object>"
      ]
     },
     "metadata": {},
     "output_type": "display_data"
    }
   ],
   "source": [
    "%%javascript\n",
    "Jupyter.notebook.save_checkpoint();\n",
    "Jupyter.notebook.session.delete();"
   ]
  }
 ],
 "metadata": {
  "kernelspec": {
   "display_name": "conda_python3",
   "language": "python",
   "name": "conda_python3"
  },
  "language_info": {
   "codemirror_mode": {
    "name": "ipython",
    "version": 3
   },
   "file_extension": ".py",
   "mimetype": "text/x-python",
   "name": "python",
   "nbconvert_exporter": "python",
   "pygments_lexer": "ipython3",
   "version": "3.6.10"
  }
 },
 "nbformat": 4,
 "nbformat_minor": 4
}
